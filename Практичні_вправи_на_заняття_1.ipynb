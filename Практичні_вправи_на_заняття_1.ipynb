{
  "nbformat": 4,
  "nbformat_minor": 0,
  "metadata": {
    "colab": {
      "provenance": [],
      "name": "Практичні вправи на заняття 1.ipynb",
      "mount_file_id": "1YVkNTfIbEzeG7TC73gcGVQycVX_0wXoU",
      "authorship_tag": "ABX9TyPmzKX3RiL9568Ey0Ar1lo3",
      "include_colab_link": true
    },
    "kernelspec": {
      "name": "python3",
      "display_name": "Python 3"
    },
    "language_info": {
      "name": "python"
    }
  },
  "cells": [
    {
      "cell_type": "markdown",
      "metadata": {
        "id": "view-in-github",
        "colab_type": "text"
      },
      "source": [
        "<a href=\"https://colab.research.google.com/github/DimasWerito/Math_01/blob/main/%D0%9F%D1%80%D0%B0%D0%BA%D1%82%D0%B8%D1%87%D0%BD%D1%96_%D0%B2%D0%BF%D1%80%D0%B0%D0%B2%D0%B8_%D0%BD%D0%B0_%D0%B7%D0%B0%D0%BD%D1%8F%D1%82%D1%82%D1%8F_1.ipynb\" target=\"_parent\"><img src=\"https://colab.research.google.com/assets/colab-badge.svg\" alt=\"Open In Colab\"/></a>"
      ]
    },
    {
      "cell_type": "code",
      "source": [
        "import numpy as np\n",
        "A = np.array([[1, 5, 3],[5, 1,2]])\n",
        "print(A)"
      ],
      "metadata": {
        "colab": {
          "base_uri": "https://localhost:8080/"
        },
        "id": "lDi9gw0pKi6B",
        "outputId": "f3d6f8d0-860d-4fde-c8fb-291b4eff185f"
      },
      "execution_count": null,
      "outputs": [
        {
          "output_type": "stream",
          "name": "stdout",
          "text": [
            "[[1 5 3]\n",
            " [5 1 2]]\n"
          ]
        }
      ]
    },
    {
      "cell_type": "code",
      "source": [
        "import numpy as np\n",
        "a = np.array([[1,1],[2,2],[3,3],[4,4],[5,5]])\n",
        "b = np.array([[1,1,1],[2,2,2]])\n",
        "print(a)\n",
        "print(b)\n",
        "total = a.dot(b)\n",
        "print(total)"
      ],
      "metadata": {
        "id": "AwZQ60gP26Fo",
        "outputId": "090ad0cf-570a-421e-b898-db56c1574abf",
        "colab": {
          "base_uri": "https://localhost:8080/"
        }
      },
      "execution_count": 2,
      "outputs": [
        {
          "output_type": "stream",
          "name": "stdout",
          "text": [
            "[[1 1]\n",
            " [2 2]\n",
            " [3 3]\n",
            " [4 4]\n",
            " [5 5]]\n",
            "[[1 1 1]\n",
            " [2 2 2]]\n",
            "[[ 3  3  3]\n",
            " [ 6  6  6]\n",
            " [ 9  9  9]\n",
            " [12 12 12]\n",
            " [15 15 15]]\n"
          ]
        }
      ]
    },
    {
      "cell_type": "code",
      "source": [
        "import numpy as np\n",
        "B = np.array([[1,2],[3,4]])\n",
        "print(B)"
      ],
      "metadata": {
        "colab": {
          "base_uri": "https://localhost:8080/"
        },
        "id": "9P7BY5TXLIAF",
        "outputId": "1e98f111-8728-4406-cc00-7700686bb693"
      },
      "execution_count": null,
      "outputs": [
        {
          "output_type": "stream",
          "name": "stdout",
          "text": [
            "[[1 2]\n",
            " [3 4]]\n"
          ]
        }
      ]
    },
    {
      "cell_type": "code",
      "source": [
        "import numpy as np\n",
        "E = np.array([[3,1,1,1],[1,3,1,1],[1,1,3,1],[1,1,1,3]])\n",
        "print(E)"
      ],
      "metadata": {
        "colab": {
          "base_uri": "https://localhost:8080/"
        },
        "id": "ZqV1uDtsMGuq",
        "outputId": "664b08a8-b4d5-4bd1-d6d2-9bfb7ffc9cef"
      },
      "execution_count": null,
      "outputs": [
        {
          "output_type": "stream",
          "name": "stdout",
          "text": [
            "[[3 1 1 1]\n",
            " [1 3 1 1]\n",
            " [1 1 3 1]\n",
            " [1 1 1 3]]\n"
          ]
        }
      ]
    },
    {
      "cell_type": "code",
      "source": [
        "import numpy as np\n",
        "F = np.array([[1,1,1,5],[1,1,5,1],[1,5,1,1],[5,1,1,1]])\n",
        "print(F)"
      ],
      "metadata": {
        "colab": {
          "base_uri": "https://localhost:8080/"
        },
        "id": "B7Jr5YS0MGwG",
        "outputId": "d6255b02-2f9f-4ffa-d335-a1a0a0acd8ad"
      },
      "execution_count": null,
      "outputs": [
        {
          "output_type": "stream",
          "name": "stdout",
          "text": [
            "[[1 1 1 5]\n",
            " [1 1 5 1]\n",
            " [1 5 1 1]\n",
            " [5 1 1 1]]\n"
          ]
        }
      ]
    },
    {
      "cell_type": "code",
      "source": [
        "import numpy as np\n",
        "G = np.array([[4,1,1,5],[0,4,5,1],[0,0,4,1],[0,0,0,4]])\n",
        "print(G)"
      ],
      "metadata": {
        "colab": {
          "base_uri": "https://localhost:8080/"
        },
        "id": "wPR-TkRxNOij",
        "outputId": "3607d7b6-3c47-4084-8cf8-28f0c75e22fd"
      },
      "execution_count": null,
      "outputs": [
        {
          "output_type": "stream",
          "name": "stdout",
          "text": [
            "[[4 1 1 5]\n",
            " [0 4 5 1]\n",
            " [0 0 4 1]\n",
            " [0 0 0 4]]\n"
          ]
        }
      ]
    },
    {
      "cell_type": "code",
      "source": [
        "import numpy as np\n",
        "H = np.array([[4,0,0,0],[4,4,0,0],[2,7,4,0],[1,-3,9,4]])\n",
        "print(H)"
      ],
      "metadata": {
        "colab": {
          "base_uri": "https://localhost:8080/"
        },
        "id": "GwABxMWtNrmw",
        "outputId": "15a98fb6-5cef-4a32-b3a3-b09e97f39215"
      },
      "execution_count": null,
      "outputs": [
        {
          "output_type": "stream",
          "name": "stdout",
          "text": [
            "[[ 4  0  0  0]\n",
            " [ 4  4  0  0]\n",
            " [ 2  7  4  0]\n",
            " [ 1 -3  9  4]]\n"
          ]
        }
      ]
    },
    {
      "cell_type": "code",
      "source": [
        "import numpy as np\n",
        "A = np.array([[2,1,-1],[0,1,-4]])\n",
        "B = np.array([[-2,1,0],[-3,2,2]])\n",
        "print(A+B)"
      ],
      "metadata": {
        "colab": {
          "base_uri": "https://localhost:8080/"
        },
        "id": "jFmkBPZVQ6b2",
        "outputId": "0fe201b5-07a7-4ec7-d62b-d1de3fe82a45"
      },
      "execution_count": null,
      "outputs": [
        {
          "output_type": "stream",
          "name": "stdout",
          "text": [
            "[[ 0  2 -1]\n",
            " [-3  3 -2]]\n"
          ]
        }
      ]
    },
    {
      "cell_type": "code",
      "source": [
        "import numpy as np\n",
        "C = np.array([[1,2,2,2],[3,4,4,4]])\n",
        "print(C)"
      ],
      "metadata": {
        "colab": {
          "base_uri": "https://localhost:8080/"
        },
        "id": "xs924K90LaZL",
        "outputId": "fb0f0da8-7f04-4d62-f571-f79966c508e9"
      },
      "execution_count": null,
      "outputs": [
        {
          "output_type": "stream",
          "name": "stdout",
          "text": [
            "[[1 2 2 2]\n",
            " [3 4 4 4]]\n"
          ]
        }
      ]
    },
    {
      "cell_type": "code",
      "source": [
        "import numpy as np\n",
        "D = np.array([[1,1,1,1],[1,1,1,1],[1,1,1,1],[1,1,1,1]])\n",
        "print(D)"
      ],
      "metadata": {
        "colab": {
          "base_uri": "https://localhost:8080/"
        },
        "id": "Q5D5hO5JLy6U",
        "outputId": "eaddd284-74ed-4cc3-b3c9-99c760982fb9"
      },
      "execution_count": null,
      "outputs": [
        {
          "output_type": "stream",
          "name": "stdout",
          "text": [
            "[[1 1 1 1]\n",
            " [1 1 1 1]\n",
            " [1 1 1 1]\n",
            " [1 1 1 1]]\n"
          ]
        }
      ]
    },
    {
      "cell_type": "code",
      "source": [
        "import numpy as np\n",
        "A = np.array([[4,1,-1],[5,1,-4]])\n",
        "B = np.array([[-2,3,0],[2,2,2]])\n",
        "print(A + B)"
      ],
      "metadata": {
        "colab": {
          "base_uri": "https://localhost:8080/"
        },
        "id": "c3cBSBFQTOkT",
        "outputId": "055f1b2f-3f14-41d1-aea8-835cd3247527"
      },
      "execution_count": null,
      "outputs": [
        {
          "output_type": "stream",
          "name": "stdout",
          "text": [
            "[[ 2  4 -1]\n",
            " [ 7  3 -2]]\n"
          ]
        }
      ]
    },
    {
      "cell_type": "code",
      "source": [
        "import numpy as np\n",
        "C = np.array([[4,1,-1],[-1,6,5],[5,1,-4]])\n",
        "D = np.array([[-2,3,0],[8,1,7],[2,2,2]])\n",
        "print(C + D)"
      ],
      "metadata": {
        "colab": {
          "base_uri": "https://localhost:8080/"
        },
        "id": "FnR5i2_IUDGO",
        "outputId": "c7260ab2-7552-4e36-8dd2-e64ff5d5fd37"
      },
      "execution_count": null,
      "outputs": [
        {
          "output_type": "stream",
          "name": "stdout",
          "text": [
            "[[ 2  4 -1]\n",
            " [ 7  7 12]\n",
            " [ 7  3 -2]]\n"
          ]
        }
      ]
    },
    {
      "cell_type": "code",
      "source": [
        "import numpy as np\n",
        "A = np.array([[2,1,-1],[0,1,-4]])\n",
        "print(3 * A)"
      ],
      "metadata": {
        "colab": {
          "base_uri": "https://localhost:8080/"
        },
        "id": "PsExMezVWYf1",
        "outputId": "dba49381-81e7-45db-dbed-da163d51308c"
      },
      "execution_count": null,
      "outputs": [
        {
          "output_type": "stream",
          "name": "stdout",
          "text": [
            "[[  6   3  -3]\n",
            " [  0   3 -12]]\n"
          ]
        }
      ]
    },
    {
      "cell_type": "code",
      "source": [
        "import numpy as np\n",
        "A = np.array([[2,1,-1],[0,1,-4]])\n",
        "print(5 * A)"
      ],
      "metadata": {
        "colab": {
          "base_uri": "https://localhost:8080/"
        },
        "id": "oqH1ZN8IXZ83",
        "outputId": "3b840ce1-e042-405d-d6c8-909a74ec4ea0"
      },
      "execution_count": null,
      "outputs": [
        {
          "output_type": "stream",
          "name": "stdout",
          "text": [
            "[[ 10   5  -5]\n",
            " [  0   5 -20]]\n"
          ]
        }
      ]
    },
    {
      "cell_type": "code",
      "source": [
        "import numpy as np\n",
        "B = np.array([[7,1,-1],[2,3,-4]])\n",
        "print(2 * B)"
      ],
      "metadata": {
        "colab": {
          "base_uri": "https://localhost:8080/"
        },
        "id": "vinvpiFMX8wM",
        "outputId": "cc738510-e68e-461d-b62b-c01184374d5b"
      },
      "execution_count": null,
      "outputs": [
        {
          "output_type": "stream",
          "name": "stdout",
          "text": [
            "[[14  2 -2]\n",
            " [ 4  6 -8]]\n"
          ]
        }
      ]
    },
    {
      "cell_type": "code",
      "source": [
        "import numpy as np\n",
        "C = np.array([[1,5,-1],[7,1,-1],[5,3,1]])\n",
        "print(5 * C)"
      ],
      "metadata": {
        "colab": {
          "base_uri": "https://localhost:8080/"
        },
        "id": "o5AhZd_kX8xl",
        "outputId": "d3b8a98a-5f59-4ae6-e3b7-6a476f16570a"
      },
      "execution_count": null,
      "outputs": [
        {
          "output_type": "stream",
          "name": "stdout",
          "text": [
            "[[ 5 25 -5]\n",
            " [35  5 -5]\n",
            " [25 15  5]]\n"
          ]
        }
      ]
    },
    {
      "cell_type": "code",
      "source": [
        "import numpy as np\n",
        "\n",
        "def get_matrix_dimensions(matrix):\n",
        "  num_rows, num_columns = matrix.shape\n",
        "  return num_rows, num_columns\n",
        "A = np.array([[2,0,0,1],[0,-1,2,1],[2,1,0,3]])\n",
        "dimensions = get_matrix_dimensions(A)\n",
        "print(\"Кількість строк:\", dimensions[0])\n",
        "print(\"Кількість стовпців:\", dimensions[1])"
      ],
      "metadata": {
        "id": "4jDaI6gfASFQ",
        "outputId": "f3a06f69-1fc2-443c-e685-b2c1ba3eba59",
        "colab": {
          "base_uri": "https://localhost:8080/"
        }
      },
      "execution_count": 7,
      "outputs": [
        {
          "output_type": "stream",
          "name": "stdout",
          "text": [
            "Кількість строк: 3\n",
            "Кількість стовпців: 4\n"
          ]
        }
      ]
    },
    {
      "cell_type": "code",
      "source": [
        "import numpy as np\n",
        "def get_matrix_dimensions(matrix):\n",
        "  num_rows, num_columns = matrix.shape\n",
        "  return num_rows, num_columns\n",
        "B = np.array([[2,0],[0,-1],[2,1]])\n",
        "dimensions = get_matrix_dimensions(B)\n",
        "print(\"Кількість строк:\", dimensions[0])\n",
        "print(\"Кількість стовпців:\", dimensions[1])"
      ],
      "metadata": {
        "id": "aGRc3TsUEI96",
        "outputId": "f3b9739b-013c-4f24-a313-d119b83f9b0e",
        "colab": {
          "base_uri": "https://localhost:8080/"
        }
      },
      "execution_count": 8,
      "outputs": [
        {
          "output_type": "stream",
          "name": "stdout",
          "text": [
            "Кількість строк: 3\n",
            "Кількість стовпців: 2\n"
          ]
        }
      ]
    },
    {
      "cell_type": "code",
      "source": [
        "import numpy as np\n",
        "def get_matrix_dimensions(matrix):\n",
        "  num_rows, num_columns = matrix.shape\n",
        "  return num_rows, num_columns\n",
        "C = np.array([[2,0,0,1],[0,-1,2,1],[0,-1,2,1],[2,1,0,3],[2,0,0,1]])\n",
        "dimensions = get_matrix_dimensions(C)\n",
        "print(\"Кількість строк:\", dimensions[0])\n",
        "print(\"Кількість стовпців:\", dimensions[1])"
      ],
      "metadata": {
        "id": "gRCbi7WcFpIa",
        "outputId": "9290bed7-909a-4fbf-e1a0-54b317b2040b",
        "colab": {
          "base_uri": "https://localhost:8080/"
        }
      },
      "execution_count": 11,
      "outputs": [
        {
          "output_type": "stream",
          "name": "stdout",
          "text": [
            "Кількість строк: 5\n",
            "Кількість стовпців: 4\n"
          ]
        }
      ]
    },
    {
      "cell_type": "code",
      "source": [
        "\n",
        "\n",
        "def generate_random_matrix(rows, columns, low_limit, high_limit):\n",
        "  random_matrix = np.random.randint(low_limit, high_limit, size=(rows, columns))\n",
        "  return random_matrix\n",
        "\n",
        "rows = 5\n",
        "columns = 5\n",
        "low_limit = 1\n",
        "high_limit = 10\n",
        "\n",
        "random_matrix = generate_random_matrix(rows, columns, low_limit, high_limit)\n",
        "\n",
        "print(\"Випадково заповнена матриця:\")\n",
        "print(random_matrix)\n"
      ],
      "metadata": {
        "id": "sQzb2RnoM3D4",
        "outputId": "d7f126a7-1c96-4930-e4a5-0b9d0666f832",
        "colab": {
          "base_uri": "https://localhost:8080/"
        }
      },
      "execution_count": 13,
      "outputs": [
        {
          "output_type": "stream",
          "name": "stdout",
          "text": [
            "Випадково заповнена матриця:\n",
            "[[2 7 8 8 8]\n",
            " [8 7 6 6 7]\n",
            " [1 2 6 9 5]\n",
            " [8 4 7 2 4]\n",
            " [4 4 6 4 5]]\n"
          ]
        }
      ]
    },
    {
      "cell_type": "code",
      "source": [
        "import random\n",
        "def gen_eye_matrix(row):\n",
        "  return np.eye(row)\n",
        "\n",
        "n = random.randint(1, 100)\n",
        "\n",
        "eye_matrix = gen_eye_matrix(n)\n",
        "\n",
        "print(\"Одиночна матриця:\")\n",
        "print(eye_matrix)\n",
        "\n",
        "get_matrix_dimensions(eye_matrix)\n",
        "\n"
      ],
      "metadata": {
        "id": "6ib9KtEPQKQt",
        "outputId": "3246afcb-e655-4f47-dab6-18017219ca84",
        "colab": {
          "base_uri": "https://localhost:8080/"
        }
      },
      "execution_count": 14,
      "outputs": [
        {
          "output_type": "stream",
          "name": "stdout",
          "text": [
            "Одиночна матриця:\n",
            "[[1. 0. 0. ... 0. 0. 0.]\n",
            " [0. 1. 0. ... 0. 0. 0.]\n",
            " [0. 0. 1. ... 0. 0. 0.]\n",
            " ...\n",
            " [0. 0. 0. ... 1. 0. 0.]\n",
            " [0. 0. 0. ... 0. 1. 0.]\n",
            " [0. 0. 0. ... 0. 0. 1.]]\n"
          ]
        },
        {
          "output_type": "execute_result",
          "data": {
            "text/plain": [
              "(84, 84)"
            ]
          },
          "metadata": {},
          "execution_count": 14
        }
      ]
    },
    {
      "cell_type": "code",
      "source": [
        "import numpy as np\n",
        "import random\n",
        "\n",
        "def generate_reverse_diagonal_matrix(size):\n",
        "  matrix = np.zeros((size, size), dtype=int)\n",
        "  for i in range(size):\n",
        "    matrix[size - i - 1, i] = random.randint(1, 10)\n",
        "  return matrix\n",
        "\n",
        "matrix_size = 5\n",
        "result_matrix = generate_reverse_diagonal_matrix(matrix_size)\n",
        "print(\"Матриця із заповненою лише зворотньою діагоналлю випадковими даними:\")\n",
        "print(result_matrix)"
      ],
      "metadata": {
        "id": "GoqBZRx-VGSp",
        "outputId": "e7c66075-15b1-4bf8-d55e-8693c107995a",
        "colab": {
          "base_uri": "https://localhost:8080/"
        }
      },
      "execution_count": 17,
      "outputs": [
        {
          "output_type": "stream",
          "name": "stdout",
          "text": [
            "Матриця із заповненою лише зворотньою діагоналлю випадковими даними:\n",
            "[[0 0 0 0 5]\n",
            " [0 0 0 6 0]\n",
            " [0 0 8 0 0]\n",
            " [0 7 0 0 0]\n",
            " [8 0 0 0 0]]\n"
          ]
        }
      ]
    },
    {
      "cell_type": "code",
      "source": [
        "import numpy as np\n",
        "import pandas as pd\n",
        "\n",
        "matrixA = np.array([[1,3,-1],[0,1,-1],[1,1,2]])\n",
        "matrixB = np.array([[1,-3,2],[-1,0,1],[2,1,1]])\n",
        "\n",
        "dfA = pd.DataFrame(matrixA)\n",
        "dfB = pd.DataFrame(matrixB)\n",
        "\n",
        "dfA.to_csv('matrixA.csv', index=False, header=False)\n",
        "dfB.to_csv('matrixB.csv', index=False, header=False)\n",
        "\n",
        "def matrix_mul(A, B):\n",
        "  if A.shape[1] != B.shape[0]:\n",
        "    raise ValueError(\"Неможливо помножити ці матриці, кількість стовпців у А\"\n",
        "                      \"повинна дорівнювати кількості рядків у В.\")\n",
        "  res = np.dot(A, B)\n",
        "  return res\n",
        "\n",
        "def matrix_add(A, B):\n",
        "  if A.shape != B.shape:\n",
        "    raise ValueError(\"Матриці мають різні розміри, додавання неможливе.\")\n",
        "  res = A + B\n",
        "  return res\n",
        "\n",
        "import pandas as pd\n",
        "\n",
        "def get_matrix_eval(file_path1, file_path2):\n",
        "  matrix1 = pd.read_csv(file_path1, header=None).values\n",
        "  matrix2 = pd.read_csv(file_path2, header=None).values\n",
        "  operation = input(\"Виберіть операцію(додавання, добуток, добуток_число):\")\n",
        "  if operation == 'додавання':\n",
        "    result = matrix_add(matrix1, matrix2)\n",
        "  elif operation =='добуток':\n",
        "    result = matrix_mul(matrix1, matrix2)\n",
        "  elif operation == 'добуток_число':\n",
        "    coef = float(input(\"Введіть число для множення:\"))\n",
        "    result = coef * matrix1\n",
        "  else:\n",
        "    result = None\n",
        "    print(\"Неправильна операція!\")\n",
        "  return result\n",
        "\n",
        "\n",
        "\n",
        "res = get_matrix_eval('matrixA.csv', 'matrixB.csv')\n",
        "\n",
        "if res is not None:\n",
        "  print(\"Результат:\")\n",
        "  print(res)"
      ],
      "metadata": {
        "id": "XI4X9VHuk0OY",
        "outputId": "9605d8c4-687d-4251-b442-b5e8fb93bb12",
        "colab": {
          "base_uri": "https://localhost:8080/"
        }
      },
      "execution_count": 23,
      "outputs": [
        {
          "output_type": "stream",
          "name": "stdout",
          "text": [
            "Виберіть операцію(додавання, добуток, добуток_число):додавання\n",
            "Результат:\n",
            "[[ 2  0  1]\n",
            " [-1  1  0]\n",
            " [ 3  2  3]]\n"
          ]
        }
      ]
    },
    {
      "cell_type": "code",
      "source": [
        "import numpy as np\n",
        "\n",
        "examples = []\n",
        "\n",
        "def generate_matrix_multiplication_examples(num_examples, matrix_size):\n",
        "  for i in range(num_examples):\n",
        "    matrix1 = np.random.randint(1, 10, size=(matrix_size, matrix_size))\n",
        "    matrix2 = np.random.randint(1, 10, size=(matrix_size, matrix_size))\n",
        "    product = np.dot(matrix1, matrix2)\n",
        "    examples.append((matrix1, matrix2, product))\n",
        "  return examples\n",
        "\n",
        "\n",
        "examples = generate_matrix_multiplication_examples(5, 3)\n",
        "for i, (matrix1, matrix2, product) in enumerate(examples, 1):\n",
        "  print(f\"Example #{i}:\")\n",
        "  print(f\"Matrix1:\\n{matrix1}\")\n",
        "  print(f\"Matrix2:\\n{matrix2}\")\n",
        "  print(f\"Expected product:\\n{product}\\n\")"
      ],
      "metadata": {
        "id": "9wNMgtPauCS3",
        "outputId": "b041ba57-5b3b-4b3b-ae7a-4b1cf1a4343b",
        "colab": {
          "base_uri": "https://localhost:8080/"
        }
      },
      "execution_count": 28,
      "outputs": [
        {
          "output_type": "stream",
          "name": "stdout",
          "text": [
            "Example #1:\n",
            "Matrix1:\n",
            "[[6 5 7]\n",
            " [8 7 7]\n",
            " [3 5 9]]\n",
            "Matrix2:\n",
            "[[8 1 8]\n",
            " [8 1 2]\n",
            " [8 8 4]]\n",
            "Expected product:\n",
            "[[144  67  86]\n",
            " [176  71 106]\n",
            " [136  80  70]]\n",
            "\n",
            "Example #2:\n",
            "Matrix1:\n",
            "[[9 1 1]\n",
            " [3 3 8]\n",
            " [9 5 7]]\n",
            "Matrix2:\n",
            "[[6 3 7]\n",
            " [1 3 1]\n",
            " [4 8 2]]\n",
            "Expected product:\n",
            "[[59 38 66]\n",
            " [53 82 40]\n",
            " [87 98 82]]\n",
            "\n",
            "Example #3:\n",
            "Matrix1:\n",
            "[[9 6 9]\n",
            " [4 5 4]\n",
            " [2 5 5]]\n",
            "Matrix2:\n",
            "[[9 7 1]\n",
            " [6 5 4]\n",
            " [1 3 4]]\n",
            "Expected product:\n",
            "[[126 120  69]\n",
            " [ 70  65  40]\n",
            " [ 53  54  42]]\n",
            "\n",
            "Example #4:\n",
            "Matrix1:\n",
            "[[6 6 8]\n",
            " [1 7 8]\n",
            " [6 5 6]]\n",
            "Matrix2:\n",
            "[[5 5 9]\n",
            " [1 2 9]\n",
            " [7 1 9]]\n",
            "Expected product:\n",
            "[[ 92  50 180]\n",
            " [ 68  27 144]\n",
            " [ 77  46 153]]\n",
            "\n",
            "Example #5:\n",
            "Matrix1:\n",
            "[[8 6 6]\n",
            " [4 5 4]\n",
            " [8 8 7]]\n",
            "Matrix2:\n",
            "[[8 8 8]\n",
            " [5 8 4]\n",
            " [9 4 6]]\n",
            "Expected product:\n",
            "[[148 136 124]\n",
            " [ 93  88  76]\n",
            " [167 156 138]]\n",
            "\n"
          ]
        }
      ]
    },
    {
      "cell_type": "code",
      "source": [
        "import numpy as np\n",
        "import time\n",
        "\n",
        "def generate_matrix_multiplication_example(matrix_size):\n",
        "  matrix1 = np.random.randint(1, 10, size=(matrix_size, matrix_size))\n",
        "  matrix2 = np.random.randint(1, 10, size=(matrix_size, matrix_size))\n",
        "  product = np.dot(matrix1, matrix2)\n",
        "\n",
        "  #Display the matrices and prompt the user to solve\n",
        "  print(f\"Solve the matrix multiplication:\\n\")\n",
        "  print(f\"Matrix 1:\\n{matrix1}\\n\")\n",
        "  print(f\"Matrix 2:\\n{matrix2}]n\")\n",
        "\n",
        "  #Record the start time\n",
        "  start_time = time.time()\n",
        "\n",
        "  #prompt user for the solution\n",
        "  user_solution = input(f\"Enter your solution for the product matrix(comma-separated row values):\")\n",
        "  user_solution = np.array(list(map(int, user_solution.split(\",\")))).reshape(matrix_size, matrix_size)\n",
        "\n",
        "  #record the end time\n",
        "  end_time = time.time()\n",
        "\n",
        "  #check if the users solution is correct\n",
        "  if np.array_equal(user_solution, product):\n",
        "    print(f\"\\nCorrect!It took you{end_time - start_time:2f}seconds.\")\n",
        "  else:\n",
        "    print(f\"\\nIncorrect. The correct product matrix is:\\n{product}\")\n",
        "\n",
        "\n",
        "#Example of usage:\n",
        "generate_matrix_multiplication_example(3)"
      ],
      "metadata": {
        "id": "6biJ_S8HvZRS",
        "outputId": "95db9ba6-98ca-47bb-ee66-702b270c8920",
        "colab": {
          "base_uri": "https://localhost:8080/"
        }
      },
      "execution_count": null,
      "outputs": [
        {
          "metadata": {
            "tags": null
          },
          "name": "stdout",
          "output_type": "stream",
          "text": [
            "Solve the matrix multiplication:\n",
            "\n",
            "Matrix 1:\n",
            "[[9 8 6]\n",
            " [6 2 8]\n",
            " [8 5 7]]\n",
            "\n",
            "Matrix 2:\n",
            "[[6 2 5]\n",
            " [7 2 1]\n",
            " [5 8 5]]]n\n"
          ]
        }
      ]
    }
  ]
}